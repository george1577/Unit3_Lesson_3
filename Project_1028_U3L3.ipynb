{
 "cells": [
  {
   "cell_type": "code",
   "execution_count": 18,
   "metadata": {},
   "outputs": [],
   "source": [
    "%matplotlib inline\n",
    "import numpy as np\n",
    "import pandas as pd\n",
    "import matplotlib.pyplot as plt\n",
    "import scipy.stats as stats\n",
    "plt.style.use('seaborn-deep')"
   ]
  },
  {
   "cell_type": "markdown",
   "metadata": {},
   "source": [
    "## Uniform distribution"
   ]
  },
  {
   "cell_type": "code",
   "execution_count": 30,
   "metadata": {},
   "outputs": [
    {
     "data": {
      "text/html": [
       "<div>\n",
       "<style scoped>\n",
       "    .dataframe tbody tr th:only-of-type {\n",
       "        vertical-align: middle;\n",
       "    }\n",
       "\n",
       "    .dataframe tbody tr th {\n",
       "        vertical-align: top;\n",
       "    }\n",
       "\n",
       "    .dataframe thead th {\n",
       "        text-align: right;\n",
       "    }\n",
       "</style>\n",
       "<table border=\"1\" class=\"dataframe\">\n",
       "  <thead>\n",
       "    <tr style=\"text-align: right;\">\n",
       "      <th></th>\n",
       "      <th>value</th>\n",
       "    </tr>\n",
       "  </thead>\n",
       "  <tbody>\n",
       "    <tr>\n",
       "      <th>0</th>\n",
       "      <td>8.488177</td>\n",
       "    </tr>\n",
       "    <tr>\n",
       "      <th>1</th>\n",
       "      <td>1.788959</td>\n",
       "    </tr>\n",
       "    <tr>\n",
       "      <th>2</th>\n",
       "      <td>0.543632</td>\n",
       "    </tr>\n",
       "    <tr>\n",
       "      <th>3</th>\n",
       "      <td>3.615384</td>\n",
       "    </tr>\n",
       "    <tr>\n",
       "      <th>4</th>\n",
       "      <td>2.754009</td>\n",
       "    </tr>\n",
       "  </tbody>\n",
       "</table>\n",
       "</div>"
      ],
      "text/plain": [
       "      value\n",
       "0  8.488177\n",
       "1  1.788959\n",
       "2  0.543632\n",
       "3  3.615384\n",
       "4  2.754009"
      ]
     },
     "execution_count": 30,
     "metadata": {},
     "output_type": "execute_result"
    }
   ],
   "source": [
    "np.random.seed(15)\n",
    "uniform = np.random.uniform(low=0, high=10, size=100)\n",
    "uniform_df = pd.DataFrame()\n",
    "uniform_df['value'] = uniform\n",
    "uniform_df.head()"
   ]
  },
  {
   "cell_type": "code",
   "execution_count": 105,
   "metadata": {},
   "outputs": [
    {
     "data": {
      "image/png": "[encoded data removed]",
      "text/plain": [
       "<Figure size 720x360 with 1 Axes>"
      ]
     },
     "metadata": {
      "needs_background": "light"
     },
     "output_type": "display_data"
    }
   ],
   "source": [
    "fig, ax = plt.subplots(1,1, figsize=(10,5))\n",
    "uniform_df['value'].plot(kind='hist', bins=15, ax=ax)\n",
    "ax.axvline(x=uniform_df['value'].mean(), linestyle='--', color='red')\n",
    "ax.axvline(x=uniform_df['value'].mean() + uniform_df['value'].std(), linestyle='--', color='blue')\n",
    "ax.axvline(x=uniform_df['value'].mean() - uniform_df['value'].std(), linestyle='--', color='blue')\n",
    "ax.set_title('Uniform distribution')\n",
    "ax.set_xlabel('Value')\n",
    "ax.text(x=4.5, y=10, s='mean')\n",
    "plt.show()"
   ]
  },
  {
   "cell_type": "markdown",
   "metadata": {},
   "source": [
    "## Normal distribution"
   ]
  },
  {
   "cell_type": "code",
   "execution_count": 53,
   "metadata": {},
   "outputs": [
    {
     "data": {
      "text/html": [
       "<div>\n",
       "<style scoped>\n",
       "    .dataframe tbody tr th:only-of-type {\n",
       "        vertical-align: middle;\n",
       "    }\n",
       "\n",
       "    .dataframe tbody tr th {\n",
       "        vertical-align: top;\n",
       "    }\n",
       "\n",
       "    .dataframe thead th {\n",
       "        text-align: right;\n",
       "    }\n",
       "</style>\n",
       "<table border=\"1\" class=\"dataframe\">\n",
       "  <thead>\n",
       "    <tr style=\"text-align: right;\">\n",
       "      <th></th>\n",
       "      <th>value</th>\n",
       "    </tr>\n",
       "  </thead>\n",
       "  <tbody>\n",
       "    <tr>\n",
       "      <th>0</th>\n",
       "      <td>-0.312328</td>\n",
       "    </tr>\n",
       "    <tr>\n",
       "      <th>1</th>\n",
       "      <td>0.339285</td>\n",
       "    </tr>\n",
       "    <tr>\n",
       "      <th>2</th>\n",
       "      <td>-0.155909</td>\n",
       "    </tr>\n",
       "    <tr>\n",
       "      <th>3</th>\n",
       "      <td>-0.501790</td>\n",
       "    </tr>\n",
       "    <tr>\n",
       "      <th>4</th>\n",
       "      <td>0.235569</td>\n",
       "    </tr>\n",
       "  </tbody>\n",
       "</table>\n",
       "</div>"
      ],
      "text/plain": [
       "      value\n",
       "0 -0.312328\n",
       "1  0.339285\n",
       "2 -0.155909\n",
       "3 -0.501790\n",
       "4  0.235569"
      ]
     },
     "execution_count": 53,
     "metadata": {},
     "output_type": "execute_result"
    }
   ],
   "source": [
    "np.random.seed(15)\n",
    "norm = np.random.normal(loc=0, scale=1, size=100)\n",
    "norm_df = pd.DataFrame()\n",
    "norm_df['value'] = norm\n",
    "norm_df.head()"
   ]
  },
  {
   "cell_type": "code",
   "execution_count": 107,
   "metadata": {},
   "outputs": [
    {
     "data": {
      "image/png": "[encoded data removed]",
      "text/plain": [
       "<Figure size 720x360 with 1 Axes>"
      ]
     },
     "metadata": {
      "needs_background": "light"
     },
     "output_type": "display_data"
    }
   ],
   "source": [
    "fig, ax = plt.subplots(1,1, figsize=(10,5))\n",
    "norm_df['value'].plot(kind='hist', bins=15, ax=ax)\n",
    "ax.axvline(x=norm_df['value'].mean(), linestyle='--', color='red')\n",
    "ax.axvline(x=norm_df['value'].mean() + norm_df['value'].std(), linestyle='--', color='blue')\n",
    "ax.axvline(x=norm_df['value'].mean() - norm_df['value'].std(), linestyle='--', color='blue')\n",
    "ax.set_title('Normal distribution')\n",
    "ax.set_xlabel('Value')\n",
    "ax.text(x=0, y=10, s='mean')\n",
    "\n",
    "plt.show()"
   ]
  },
  {
   "cell_type": "markdown",
   "metadata": {},
   "source": [
    "## Poisson distribution"
   ]
  },
  {
   "cell_type": "code",
   "execution_count": 55,
   "metadata": {},
   "outputs": [
    {
     "data": {
      "text/html": [
       "<div>\n",
       "<style scoped>\n",
       "    .dataframe tbody tr th:only-of-type {\n",
       "        vertical-align: middle;\n",
       "    }\n",
       "\n",
       "    .dataframe tbody tr th {\n",
       "        vertical-align: top;\n",
       "    }\n",
       "\n",
       "    .dataframe thead th {\n",
       "        text-align: right;\n",
       "    }\n",
       "</style>\n",
       "<table border=\"1\" class=\"dataframe\">\n",
       "  <thead>\n",
       "    <tr style=\"text-align: right;\">\n",
       "      <th></th>\n",
       "      <th>value</th>\n",
       "    </tr>\n",
       "  </thead>\n",
       "  <tbody>\n",
       "    <tr>\n",
       "      <th>0</th>\n",
       "      <td>3</td>\n",
       "    </tr>\n",
       "    <tr>\n",
       "      <th>1</th>\n",
       "      <td>4</td>\n",
       "    </tr>\n",
       "    <tr>\n",
       "      <th>2</th>\n",
       "      <td>6</td>\n",
       "    </tr>\n",
       "    <tr>\n",
       "      <th>3</th>\n",
       "      <td>2</td>\n",
       "    </tr>\n",
       "    <tr>\n",
       "      <th>4</th>\n",
       "      <td>7</td>\n",
       "    </tr>\n",
       "  </tbody>\n",
       "</table>\n",
       "</div>"
      ],
      "text/plain": [
       "   value\n",
       "0      3\n",
       "1      4\n",
       "2      6\n",
       "3      2\n",
       "4      7"
      ]
     },
     "execution_count": 55,
     "metadata": {},
     "output_type": "execute_result"
    }
   ],
   "source": [
    "np.random.seed(15)\n",
    "poisson = np.random.poisson(lam=5, size=100)\n",
    "poisson_df = pd.DataFrame()\n",
    "poisson_df['value'] = poisson\n",
    "poisson_df.head()"
   ]
  },
  {
   "cell_type": "code",
   "execution_count": 108,
   "metadata": {},
   "outputs": [
    {
     "data": {
      "image/png": "[encoded data removed]",
      "text/plain": [
       "<Figure size 720x360 with 1 Axes>"
      ]
     },
     "metadata": {
      "needs_background": "light"
     },
     "output_type": "display_data"
    }
   ],
   "source": [
    "fig, ax = plt.subplots(1,1, figsize=(10,5))\n",
    "poisson_df['value'].plot(kind='hist', bins=10, ax=ax)\n",
    "ax.axvline(x=poisson_df['value'].mean(), linestyle='--', color='red')\n",
    "ax.axvline(x=poisson_df['value'].mean() + poisson_df['value'].std(), linestyle='--', color='blue')\n",
    "ax.axvline(x=poisson_df['value'].mean() - poisson_df['value'].std(), linestyle='--', color='blue')\n",
    "ax.set_title('Poisson distribution')\n",
    "ax.set_xlabel('Value')\n",
    "ax.text(x=4.7, y=10, s='mean')\n",
    "\n",
    "plt.show()"
   ]
  },
  {
   "cell_type": "markdown",
   "metadata": {},
   "source": [
    "## Gamma distribution"
   ]
  },
  {
   "cell_type": "code",
   "execution_count": 64,
   "metadata": {},
   "outputs": [
    {
     "data": {
      "text/html": [
       "<div>\n",
       "<style scoped>\n",
       "    .dataframe tbody tr th:only-of-type {\n",
       "        vertical-align: middle;\n",
       "    }\n",
       "\n",
       "    .dataframe tbody tr th {\n",
       "        vertical-align: top;\n",
       "    }\n",
       "\n",
       "    .dataframe thead th {\n",
       "        text-align: right;\n",
       "    }\n",
       "</style>\n",
       "<table border=\"1\" class=\"dataframe\">\n",
       "  <thead>\n",
       "    <tr style=\"text-align: right;\">\n",
       "      <th></th>\n",
       "      <th>value</th>\n",
       "    </tr>\n",
       "  </thead>\n",
       "  <tbody>\n",
       "    <tr>\n",
       "      <th>0</th>\n",
       "      <td>2.590189</td>\n",
       "    </tr>\n",
       "    <tr>\n",
       "      <th>1</th>\n",
       "      <td>4.288346</td>\n",
       "    </tr>\n",
       "    <tr>\n",
       "      <th>2</th>\n",
       "      <td>3.979315</td>\n",
       "    </tr>\n",
       "    <tr>\n",
       "      <th>3</th>\n",
       "      <td>0.538524</td>\n",
       "    </tr>\n",
       "    <tr>\n",
       "      <th>4</th>\n",
       "      <td>2.605843</td>\n",
       "    </tr>\n",
       "  </tbody>\n",
       "</table>\n",
       "</div>"
      ],
      "text/plain": [
       "      value\n",
       "0  2.590189\n",
       "1  4.288346\n",
       "2  3.979315\n",
       "3  0.538524\n",
       "4  2.605843"
      ]
     },
     "execution_count": 64,
     "metadata": {},
     "output_type": "execute_result"
    }
   ],
   "source": [
    "np.random.seed(15)\n",
    "gamma = np.random.gamma(shape=2, scale=2, size=100)\n",
    "gamma_df = pd.DataFrame()\n",
    "gamma_df['value'] = gamma\n",
    "gamma_df.head()"
   ]
  },
  {
   "cell_type": "code",
   "execution_count": 109,
   "metadata": {},
   "outputs": [
    {
     "data": {
      "image/png": "[encoded data removed]",
      "text/plain": [
       "<Figure size 720x360 with 1 Axes>"
      ]
     },
     "metadata": {
      "needs_background": "light"
     },
     "output_type": "display_data"
    }
   ],
   "source": [
    "fig, ax = plt.subplots(1,1, figsize=(10,5))\n",
    "gamma_df['value'].plot(kind='hist', bins=15, ax=ax)\n",
    "ax.axvline(x=gamma_df['value'].mean(), linestyle='--', color='red')\n",
    "ax.axvline(x=gamma_df['value'].mean() + gamma_df['value'].std(), linestyle='--', color='blue')\n",
    "ax.axvline(x=gamma_df['value'].mean() - gamma_df['value'].std(), linestyle='--', color='blue')\n",
    "ax.set_title('Gamma distribution')\n",
    "ax.set_xlabel('Value')\n",
    "ax.text(x=3.8, y=14, s='mean')\n",
    "\n",
    "plt.show()"
   ]
  },
  {
   "cell_type": "markdown",
   "metadata": {},
   "source": [
    "## Exponential distribution"
   ]
  },
  {
   "cell_type": "code",
   "execution_count": 77,
   "metadata": {},
   "outputs": [
    {
     "data": {
      "text/html": [
       "<div>\n",
       "<style scoped>\n",
       "    .dataframe tbody tr th:only-of-type {\n",
       "        vertical-align: middle;\n",
       "    }\n",
       "\n",
       "    .dataframe tbody tr th {\n",
       "        vertical-align: top;\n",
       "    }\n",
       "\n",
       "    .dataframe thead th {\n",
       "        text-align: right;\n",
       "    }\n",
       "</style>\n",
       "<table border=\"1\" class=\"dataframe\">\n",
       "  <thead>\n",
       "    <tr style=\"text-align: right;\">\n",
       "      <th></th>\n",
       "      <th>value</th>\n",
       "    </tr>\n",
       "  </thead>\n",
       "  <tbody>\n",
       "    <tr>\n",
       "      <th>0</th>\n",
       "      <td>1.889269</td>\n",
       "    </tr>\n",
       "    <tr>\n",
       "      <th>1</th>\n",
       "      <td>0.197105</td>\n",
       "    </tr>\n",
       "    <tr>\n",
       "      <th>2</th>\n",
       "      <td>0.055897</td>\n",
       "    </tr>\n",
       "    <tr>\n",
       "      <th>3</th>\n",
       "      <td>0.448694</td>\n",
       "    </tr>\n",
       "    <tr>\n",
       "      <th>4</th>\n",
       "      <td>0.322137</td>\n",
       "    </tr>\n",
       "  </tbody>\n",
       "</table>\n",
       "</div>"
      ],
      "text/plain": [
       "      value\n",
       "0  1.889269\n",
       "1  0.197105\n",
       "2  0.055897\n",
       "3  0.448694\n",
       "4  0.322137"
      ]
     },
     "execution_count": 77,
     "metadata": {},
     "output_type": "execute_result"
    }
   ],
   "source": [
    "np.random.seed(15)\n",
    "expo = np.random.exponential(scale=1, size=100)\n",
    "expo_df = pd.DataFrame()\n",
    "expo_df['value'] = expo\n",
    "expo_df.head()"
   ]
  },
  {
   "cell_type": "code",
   "execution_count": 111,
   "metadata": {},
   "outputs": [
    {
     "data": {
      "image/png": "[encoded data removed]",
      "text/plain": [
       "<Figure size 720x360 with 1 Axes>"
      ]
     },
     "metadata": {
      "needs_background": "light"
     },
     "output_type": "display_data"
    }
   ],
   "source": [
    "fig, ax = plt.subplots(1,1, figsize=(10,5))\n",
    "expo_df['value'].plot(kind='hist', bins=15, ax=ax)\n",
    "ax.axvline(x=expo_df['value'].mean(), linestyle='--', color='red')\n",
    "ax.axvline(x=expo_df['value'].mean() + expo_df['value'].std(), linestyle='--', color='blue')\n",
    "ax.axvline(x=expo_df['value'].mean() - expo_df['value'].std(), linestyle='--', color='blue')\n",
    "ax.set_title('Exponential distribution')\n",
    "ax.set_xlabel('Value')\n",
    "ax.text(x=0.9, y=14, s='mean')\n",
    "\n",
    "plt.show()"
   ]
  },
  {
   "cell_type": "markdown",
   "metadata": {},
   "source": [
    "## Binomial distribution"
   ]
  },
  {
   "cell_type": "code",
   "execution_count": 84,
   "metadata": {},
   "outputs": [
    {
     "data": {
      "text/html": [
       "<div>\n",
       "<style scoped>\n",
       "    .dataframe tbody tr th:only-of-type {\n",
       "        vertical-align: middle;\n",
       "    }\n",
       "\n",
       "    .dataframe tbody tr th {\n",
       "        vertical-align: top;\n",
       "    }\n",
       "\n",
       "    .dataframe thead th {\n",
       "        text-align: right;\n",
       "    }\n",
       "</style>\n",
       "<table border=\"1\" class=\"dataframe\">\n",
       "  <thead>\n",
       "    <tr style=\"text-align: right;\">\n",
       "      <th></th>\n",
       "      <th>value</th>\n",
       "    </tr>\n",
       "  </thead>\n",
       "  <tbody>\n",
       "    <tr>\n",
       "      <th>0</th>\n",
       "      <td>7</td>\n",
       "    </tr>\n",
       "    <tr>\n",
       "      <th>1</th>\n",
       "      <td>4</td>\n",
       "    </tr>\n",
       "    <tr>\n",
       "      <th>2</th>\n",
       "      <td>2</td>\n",
       "    </tr>\n",
       "    <tr>\n",
       "      <th>3</th>\n",
       "      <td>4</td>\n",
       "    </tr>\n",
       "    <tr>\n",
       "      <th>4</th>\n",
       "      <td>4</td>\n",
       "    </tr>\n",
       "  </tbody>\n",
       "</table>\n",
       "</div>"
      ],
      "text/plain": [
       "   value\n",
       "0      7\n",
       "1      4\n",
       "2      2\n",
       "3      4\n",
       "4      4"
      ]
     },
     "execution_count": 84,
     "metadata": {},
     "output_type": "execute_result"
    }
   ],
   "source": [
    "np.random.seed(15)\n",
    "bino = np.random.binomial(n=10, p=0.5, size=100)\n",
    "bino_df = pd.DataFrame()\n",
    "bino_df['value'] = bino\n",
    "bino_df.head()"
   ]
  },
  {
   "cell_type": "code",
   "execution_count": 112,
   "metadata": {},
   "outputs": [
    {
     "data": {
      "image/png": "[encoded data removed]",
      "text/plain": [
       "<Figure size 720x360 with 1 Axes>"
      ]
     },
     "metadata": {
      "needs_background": "light"
     },
     "output_type": "display_data"
    }
   ],
   "source": [
    "fig, ax = plt.subplots(1,1, figsize=(10,5))\n",
    "bino_df['value'].plot(kind='hist', bins=15, ax=ax)\n",
    "ax.axvline(x=bino_df['value'].mean(), linestyle='--', color='red')\n",
    "ax.axvline(x=bino_df['value'].mean() + bino_df['value'].std(), linestyle='--', color='blue')\n",
    "ax.axvline(x=bino_df['value'].mean() - bino_df['value'].std(), linestyle='--', color='blue')\n",
    "ax.set_title('Binomial distribution')\n",
    "ax.set_xlabel('Value')\n",
    "ax.text(x=4.8, y=20, s='mean')\n",
    "\n",
    "plt.show()"
   ]
  },
  {
   "cell_type": "markdown",
   "metadata": {},
   "source": [
    "## Extra"
   ]
  },
  {
   "cell_type": "code",
   "execution_count": 118,
   "metadata": {},
   "outputs": [],
   "source": [
    "np.random.seed(15)\n",
    "norm1 = np.random.normal(loc=5, scale=0.5, size=500)\n",
    "norm1_df = pd.DataFrame(norm1, columns=['value'])\n",
    "norm2 = np.random.normal(loc=10, scale=1, size=500)\n",
    "norm2_df = pd.DataFrame(norm2, columns=['value'])"
   ]
  },
  {
   "cell_type": "code",
   "execution_count": 126,
   "metadata": {},
   "outputs": [
    {
     "data": {
      "image/png": "[encoded data removed]",
      "text/plain": [
       "<Figure size 1296x360 with 2 Axes>"
      ]
     },
     "metadata": {
      "needs_background": "light"
     },
     "output_type": "display_data"
    }
   ],
   "source": [
    "fig, (ax1, ax2) = plt.subplots(1,2, figsize=(18,5))\n",
    "norm1_df['value'].plot(kind='hist', bins=20, ax=ax1)\n",
    "ax1.axvline(x=norm1_df['value'].mean(), linestyle='--', color='red')\n",
    "ax1.axvline(x=norm1_df['value'].mean() + norm1_df['value'].std(), linestyle='--', color='blue')\n",
    "ax1.axvline(x=norm1_df['value'].mean() - norm1_df['value'].std(), linestyle='--', color='blue')\n",
    "ax1.set_title('Normal distribution 1')\n",
    "ax1.text(x=5, y=50, s='mean')\n",
    "\n",
    "norm2_df['value'].plot(kind='hist', bins=20, ax=ax2)\n",
    "ax2.axvline(x=norm2_df['value'].mean(), linestyle='--', color='red')\n",
    "ax2.axvline(x=norm2_df['value'].mean() + norm2_df['value'].std(), linestyle='--', color='blue')\n",
    "ax2.axvline(x=norm2_df['value'].mean() - norm2_df['value'].std(), linestyle='--', color='blue')\n",
    "ax2.set_title('Normal distribution 2')\n",
    "ax2.text(x=10, y=50, s='mean')\n",
    "plt.show()"
   ]
  },
  {
   "cell_type": "code",
   "execution_count": 127,
   "metadata": {},
   "outputs": [
    {
     "data": {
      "image/png": "[encoded data removed]",
      "text/plain": [
       "<Figure size 720x360 with 1 Axes>"
      ]
     },
     "metadata": {
      "needs_background": "light"
     },
     "output_type": "display_data"
    }
   ],
   "source": [
    "norm3 = norm1 + norm2\n",
    "norm3_df = pd.DataFrame(norm3, columns=['value'])\n",
    "fig, ax = plt.subplots(1,1, figsize=(10,5))\n",
    "norm3_df['value'].plot(kind='hist', bins=20, ax=ax)\n",
    "ax.axvline(x=norm3_df['value'].mean(), linestyle='--', color='red')\n",
    "ax.axvline(x=norm3_df['value'].mean() + norm3_df['value'].std(), linestyle='--', color='blue')\n",
    "ax.axvline(x=norm3_df['value'].mean() - norm3_df['value'].std(), linestyle='--', color='blue')\n",
    "ax.set_title('Normal distribution 1+2')\n",
    "ax.text(x=15, y=50, s='mean')\n",
    "plt.show()"
   ]
  },
  {
   "cell_type": "code",
   "execution_count": 130,
   "metadata": {},
   "outputs": [
    {
     "name": "stdout",
     "output_type": "stream",
     "text": [
      "value    0.504437\n",
      "dtype: float64\n",
      "value    0.988343\n",
      "dtype: float64\n",
      "value    1.11887\n",
      "dtype: float64\n"
     ]
    }
   ],
   "source": [
    "print(norm1_df.std())\n",
    "print(norm2_df.std())\n",
    "print(norm3_df.std())"
   ]
  },
  {
   "cell_type": "code",
   "execution_count": null,
   "metadata": {},
   "outputs": [],
   "source": []
  }
 ],
 "metadata": {
  "kernelspec": {
   "display_name": "Python 3",
   "language": "python",
   "name": "python3"
  },
  "language_info": {
   "codemirror_mode": {
    "name": "ipython",
    "version": 3
   },
   "file_extension": ".py",
   "mimetype": "text/x-python",
   "name": "python",
   "nbconvert_exporter": "python",
   "pygments_lexer": "ipython3",
   "version": "3.7.0"
  }
 },
 "nbformat": 4,
 "nbformat_minor": 2
}
