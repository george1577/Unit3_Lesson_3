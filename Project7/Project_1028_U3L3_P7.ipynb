{
 "cells": [
  {
   "cell_type": "markdown",
   "metadata": {},
   "source": [
    "## DRILL - Exploring the Central Limit Theorem"
   ]
  },
  {
   "cell_type": "code",
   "execution_count": 27,
   "metadata": {},
   "outputs": [],
   "source": [
    "%matplotlib inline\n",
    "import pandas as pd\n",
    "import numpy as np\n",
    "import matplotlib.pyplot as plt\n",
    "from scipy.stats import ttest_ind \n",
    "plt.style.use('seaborn-deep')"
   ]
  },
  {
   "cell_type": "code",
   "execution_count": 2,
   "metadata": {},
   "outputs": [
    {
     "name": "stdout",
     "output_type": "stream",
     "text": [
      "Population 1 mean = 1.9879, standard deviation = 1.255210575959269\n",
      "Population 2 mean = 4.9953, standard deviation = 1.588168098785516\n"
     ]
    }
   ],
   "source": [
    "np.random.seed(11)\n",
    "pop1 = np.random.binomial(n=10, p=0.2, size=10000)\n",
    "pop2 = np.random.binomial(n=10, p=0.5, size=10000)\n",
    "print('Population 1 mean = {}, standard deviation = {}'.format(pop1.mean(), pop1.std()))\n",
    "print('Population 2 mean = {}, standard deviation = {}'.format(pop2.mean(), pop2.std()))"
   ]
  },
  {
   "cell_type": "markdown",
   "metadata": {},
   "source": [
    "## Normal sample(n=100)"
   ]
  },
  {
   "cell_type": "code",
   "execution_count": 17,
   "metadata": {},
   "outputs": [
    {
     "data": {
      "image/png": "[encoded data removed]",
      "text/plain": [
       "<Figure size 720x360 with 1 Axes>"
      ]
     },
     "metadata": {
      "needs_background": "light"
     },
     "output_type": "display_data"
    }
   ],
   "source": [
    "np.random.seed(11)\n",
    "pop1_samp = np.random.choice(pop1, 100, replace=True)\n",
    "pop2_samp = np.random.choice(pop2, 100, replace=True)\n",
    "pop1_samp_df = pd.DataFrame(pop1_samp, columns=['pop1'])\n",
    "pop2_samp_df = pd.DataFrame(pop2_samp, columns=['pop2'])\n",
    "fig, ax = plt.subplots(1,1,figsize=(10,5))\n",
    "pop1_samp_df.plot(kind='hist', bins=7, alpha=0.5, ax=ax)\n",
    "pop2_samp_df.plot(kind='hist', bins=7, alpha=0.5, ax=ax)\n",
    "plt.show()"
   ]
  },
  {
   "cell_type": "code",
   "execution_count": 87,
   "metadata": {},
   "outputs": [
    {
     "name": "stdout",
     "output_type": "stream",
     "text": [
      "Sample of population 1, mean = 2.08, standard deviation = 1.3392535234226566\n",
      "Sample of population 2, mean = 4.92, standard deviation = 1.5144636014114041\n"
     ]
    }
   ],
   "source": [
    "print('Sample of population 1, mean = {}, standard deviation = {}'.format(pop1_samp.mean(), pop1_samp.std()))\n",
    "print('Sample of population 2, mean = {}, standard deviation = {}'.format(pop2_samp.mean(), pop2_samp.std()))"
   ]
  },
  {
   "cell_type": "markdown",
   "metadata": {},
   "source": [
    "With sample size of 100, the 95% confidence interval of true population mean is (1.8175, 2.3425) for population 1 and the 95% confidence interval of true population mean is (4.6232, 5.2168) for population 2"
   ]
  },
  {
   "cell_type": "code",
   "execution_count": 30,
   "metadata": {},
   "outputs": [
    {
     "name": "stdout",
     "output_type": "stream",
     "text": [
      "Ttest_indResult(statistic=-13.977290532022256, pvalue=3.2439726346646282e-31)\n"
     ]
    }
   ],
   "source": [
    "print(ttest_ind(pop1_samp, pop2_samp, equal_var=False))"
   ]
  },
  {
   "cell_type": "markdown",
   "metadata": {},
   "source": [
    "## Large sample(n=1000)"
   ]
  },
  {
   "cell_type": "code",
   "execution_count": 21,
   "metadata": {},
   "outputs": [
    {
     "data": {
      "image/png": "[encoded data removed]",
      "text/plain": [
       "<Figure size 720x360 with 1 Axes>"
      ]
     },
     "metadata": {
      "needs_background": "light"
     },
     "output_type": "display_data"
    }
   ],
   "source": [
    "np.random.seed(11)\n",
    "pop1_samp_large = np.random.choice(pop1, 1000, replace=True)\n",
    "pop2_samp_large = np.random.choice(pop2, 1000, replace=True)\n",
    "pop1_samp_large_df = pd.DataFrame(pop1_samp_large, columns=['pop1'])\n",
    "pop2_samp_large_df = pd.DataFrame(pop2_samp_large, columns=['pop2'])\n",
    "fig, ax = plt.subplots(1,1,figsize=(10,5))\n",
    "pop1_samp_large_df.plot(kind='hist', bins=10, alpha=0.5, ax=ax)\n",
    "pop2_samp_large_df.plot(kind='hist', bins=10, alpha=0.5, ax=ax)\n",
    "plt.show()"
   ]
  },
  {
   "cell_type": "code",
   "execution_count": 91,
   "metadata": {},
   "outputs": [
    {
     "name": "stdout",
     "output_type": "stream",
     "text": [
      "Sample of population 1, mean = 1.976, standard deviation = 1.264683359580571\n",
      "Sample of population 2, mean = 4.95, standard deviation = 1.6252692084697846\n"
     ]
    }
   ],
   "source": [
    "print('Sample of population 1, mean = {}, standard deviation = {}'.format(pop1_samp_large.mean(), pop1_samp_large.std()))\n",
    "print('Sample of population 2, mean = {}, standard deviation = {}'.format(pop2_samp_large.mean(), pop2_samp_large.std()))"
   ]
  },
  {
   "cell_type": "markdown",
   "metadata": {},
   "source": [
    "With sample size of 1000, the 95% confidence interval of true population mean is (1.8976, 2.0544) for population 1 and the 95% confidence interval of true population mean is (4.8493, 5.0507) for population 2, as we can see if the sample size increase, the 95% confidence interval range decrease, thus our sample mean could more accurately predict the true population mean"
   ]
  },
  {
   "cell_type": "code",
   "execution_count": 31,
   "metadata": {},
   "outputs": [
    {
     "name": "stdout",
     "output_type": "stream",
     "text": [
      "Ttest_indResult(statistic=-45.64502648917795, pvalue=5.240043742045839e-307)\n"
     ]
    }
   ],
   "source": [
    "print(ttest_ind(pop1_samp_large, pop2_samp_large, equal_var=False))"
   ]
  },
  {
   "cell_type": "markdown",
   "metadata": {},
   "source": [
    "## Small sample(n=20)"
   ]
  },
  {
   "cell_type": "code",
   "execution_count": 23,
   "metadata": {},
   "outputs": [
    {
     "data": {
      "image/png": "[encoded data removed]",
      "text/plain": [
       "<Figure size 720x360 with 1 Axes>"
      ]
     },
     "metadata": {
      "needs_background": "light"
     },
     "output_type": "display_data"
    }
   ],
   "source": [
    "np.random.seed(11)\n",
    "pop1_samp_small = np.random.choice(pop1, 20, replace=True)\n",
    "pop2_samp_small = np.random.choice(pop2, 20, replace=True)\n",
    "pop1_samp_small_df = pd.DataFrame(pop1_samp_small, columns=['pop1'])\n",
    "pop2_samp_small_df = pd.DataFrame(pop2_samp_small, columns=['pop2'])\n",
    "fig, ax = plt.subplots(1,1,figsize=(10,5))\n",
    "pop1_samp_small_df.plot(kind='hist', bins=5, alpha=0.5, ax=ax)\n",
    "pop2_samp_small_df.plot(kind='hist', bins=5, alpha=0.5, ax=ax)\n",
    "plt.show()"
   ]
  },
  {
   "cell_type": "code",
   "execution_count": 93,
   "metadata": {},
   "outputs": [
    {
     "name": "stdout",
     "output_type": "stream",
     "text": [
      "Sample of population 1, mean = 2.05, standard deviation = 1.16081867662439\n",
      "Sample of population 2, mean = 5.55, standard deviation = 1.4309088021254186\n"
     ]
    }
   ],
   "source": [
    "print('Sample of population 1, mean = {}, standard deviation = {}'.format(pop1_samp_small.mean(), pop1_samp_small.std()))\n",
    "print('Sample of population 2, mean = {}, standard deviation = {}'.format(pop2_samp_small.mean(), pop2_samp_small.std()))"
   ]
  },
  {
   "cell_type": "markdown",
   "metadata": {},
   "source": [
    "With sample size of 20, the 95% confidence interval of true population mean is (1.5413, 2.5587) for population 1 and the 95% confidence interval of true population mean is (4.9229, 6.1771) for population 2, as the sample size decrease, we need a large range of confidence interval to be 95% sure that the true population mean will fall in it"
   ]
  },
  {
   "cell_type": "code",
   "execution_count": 32,
   "metadata": {},
   "outputs": [
    {
     "name": "stdout",
     "output_type": "stream",
     "text": [
      "Ttest_indResult(statistic=-8.27989740461365, pvalue=6.762323517770406e-10)\n"
     ]
    }
   ],
   "source": [
    "# calculate t-statistic and p-value for hypothesis test of difference between two population mean\n",
    "print(ttest_ind(pop1_samp_small, pop2_samp_small, equal_var=False))"
   ]
  },
  {
   "cell_type": "markdown",
   "metadata": {},
   "source": [
    "### Change the probability value for pop1"
   ]
  },
  {
   "cell_type": "code",
   "execution_count": 33,
   "metadata": {},
   "outputs": [
    {
     "name": "stdout",
     "output_type": "stream",
     "text": [
      "Population 1 mean = 2.9865, standard deviation = 1.4325912710888618\n",
      "Population 2 mean = 4.9953, standard deviation = 1.588168098785516\n"
     ]
    },
    {
     "data": {
      "image/png": "[encoded data removed]",
      "text/plain": [
       "<Figure size 720x360 with 1 Axes>"
      ]
     },
     "metadata": {
      "needs_background": "light"
     },
     "output_type": "display_data"
    }
   ],
   "source": [
    "# change p to 0.3\n",
    "np.random.seed(11)\n",
    "pop1 = np.random.binomial(n=10, p=0.3, size=10000)\n",
    "pop2 = np.random.binomial(n=10, p=0.5, size=10000)\n",
    "print('Population 1 mean = {}, standard deviation = {}'.format(pop1.mean(), pop1.std()))\n",
    "print('Population 2 mean = {}, standard deviation = {}'.format(pop2.mean(), pop2.std()))\n",
    "\n",
    "pop1_samp = np.random.choice(pop1, 100, replace=True)\n",
    "pop2_samp = np.random.choice(pop2, 100, replace=True)\n",
    "pop1_samp_df = pd.DataFrame(pop1_samp, columns=['pop1'])\n",
    "pop2_samp_df = pd.DataFrame(pop2_samp, columns=['pop2'])\n",
    "fig, ax = plt.subplots(1,1,figsize=(10,5))\n",
    "pop1_samp_df.plot(kind='hist', bins=7, alpha=0.5, ax=ax)\n",
    "pop2_samp_df.plot(kind='hist', bins=7, alpha=0.5, ax=ax)\n",
    "plt.show()"
   ]
  },
  {
   "cell_type": "code",
   "execution_count": 34,
   "metadata": {},
   "outputs": [
    {
     "name": "stdout",
     "output_type": "stream",
     "text": [
      "Ttest_indResult(statistic=-8.557589874107228, pvalue=3.376600936126192e-15)\n"
     ]
    }
   ],
   "source": [
    "# calculate t-statistic and p-value for hypothesis test of difference between two population mean\n",
    "print(ttest_ind(pop1_samp, pop2_samp, equal_var=False))"
   ]
  },
  {
   "cell_type": "markdown",
   "metadata": {},
   "source": [
    "From the data above, we can see the absolute value of t-statistic decrease, in other words, the p-value increase, this is not surprising, since the probability of population 1 success rate was increased from 0.2 to 0.3, which makes it closer to population 2, thus the difference between pop1 and pop2 mean was reduced. However, in this case p-value is still really small, so we can still conclude the mean value of pop1 and pop2 is different."
   ]
  },
  {
   "cell_type": "code",
   "execution_count": 39,
   "metadata": {},
   "outputs": [
    {
     "name": "stdout",
     "output_type": "stream",
     "text": [
      "Population 1 mean = 3.9869, standard deviation = 1.5324909102503677\n",
      "Population 2 mean = 4.9953, standard deviation = 1.588168098785516\n"
     ]
    },
    {
     "data": {
      "image/png": "[encoded data removed]",
      "text/plain": [
       "<Figure size 720x360 with 1 Axes>"
      ]
     },
     "metadata": {
      "needs_background": "light"
     },
     "output_type": "display_data"
    }
   ],
   "source": [
    "# change p to 0.4\n",
    "np.random.seed(11)\n",
    "pop1 = np.random.binomial(n=10, p=0.4, size=10000)\n",
    "pop2 = np.random.binomial(n=10, p=0.5, size=10000)\n",
    "print('Population 1 mean = {}, standard deviation = {}'.format(pop1.mean(), pop1.std()))\n",
    "print('Population 2 mean = {}, standard deviation = {}'.format(pop2.mean(), pop2.std()))\n",
    "\n",
    "pop1_samp = np.random.choice(pop1, 100, replace=True)\n",
    "pop2_samp = np.random.choice(pop2, 100, replace=True)\n",
    "pop1_samp_df = pd.DataFrame(pop1_samp, columns=['pop1'])\n",
    "pop2_samp_df = pd.DataFrame(pop2_samp, columns=['pop2'])\n",
    "fig, ax = plt.subplots(1,1,figsize=(10,5))\n",
    "pop1_samp_df.plot(kind='hist', bins=7, alpha=0.5, ax=ax)\n",
    "pop2_samp_df.plot(kind='hist', bins=7, alpha=0.5, ax=ax)\n",
    "plt.show()"
   ]
  },
  {
   "cell_type": "code",
   "execution_count": 40,
   "metadata": {},
   "outputs": [
    {
     "name": "stdout",
     "output_type": "stream",
     "text": [
      "Ttest_indResult(statistic=-3.5717074927416625, pvalue=0.00044590746815271527)\n"
     ]
    }
   ],
   "source": [
    "# calculate t-statistic and p-value for hypothesis test of difference between two population mean\n",
    "print(ttest_ind(pop1_samp, pop2_samp, equal_var=False))"
   ]
  },
  {
   "cell_type": "markdown",
   "metadata": {},
   "source": [
    "Now move the case to 0.4 success rate in population 1, we can see the mean are even closer compare to previous example, the p-value in this case now increased to around 0.0446%, which means there are 0.0446% chance that the mean in sample 1 and sample 2 is different given that the population 1 and population 2 have actually the same mean, note that 0.0446% is still a small number, we can still reject the null hypothesis that pop1 and pop2 mean are the same."
   ]
  },
  {
   "cell_type": "markdown",
   "metadata": {},
   "source": [
    "### Change the population distribution"
   ]
  },
  {
   "cell_type": "code",
   "execution_count": 47,
   "metadata": {},
   "outputs": [
    {
     "name": "stdout",
     "output_type": "stream",
     "text": [
      "Population 1 mean = 5.0131, standard deviation = 2.2661704238648954\n",
      "Population 2 mean = 5.9575, standard deviation = 2.4552176583757293\n"
     ]
    },
    {
     "data": {
      "image/png": "[encoded data removed]",
      "text/plain": [
       "<Figure size 720x360 with 1 Axes>"
      ]
     },
     "metadata": {
      "needs_background": "light"
     },
     "output_type": "display_data"
    }
   ],
   "source": [
    "# change to poisson distribution\n",
    "np.random.seed(11)\n",
    "pop1 = np.random.poisson(lam=5, size=10000)\n",
    "pop2 = np.random.poisson(lam=6, size=10000)\n",
    "print('Population 1 mean = {}, standard deviation = {}'.format(pop1.mean(), pop1.std()))\n",
    "print('Population 2 mean = {}, standard deviation = {}'.format(pop2.mean(), pop2.std()))\n",
    "\n",
    "pop1_samp = np.random.choice(pop1, 100, replace=True)\n",
    "pop2_samp = np.random.choice(pop2, 100, replace=True)\n",
    "pop1_samp_df = pd.DataFrame(pop1_samp, columns=['pop1'])\n",
    "pop2_samp_df = pd.DataFrame(pop2_samp, columns=['pop2'])\n",
    "fig, ax = plt.subplots(1,1,figsize=(10,5))\n",
    "pop1_samp_df.plot(kind='hist', bins=7, alpha=0.5, ax=ax)\n",
    "pop2_samp_df.plot(kind='hist', bins=7, alpha=0.5, ax=ax)\n",
    "plt.show()"
   ]
  },
  {
   "cell_type": "code",
   "execution_count": 48,
   "metadata": {},
   "outputs": [
    {
     "name": "stdout",
     "output_type": "stream",
     "text": [
      "Ttest_indResult(statistic=-2.2238353425305473, pvalue=0.02730049353538714)\n"
     ]
    }
   ],
   "source": [
    "print(ttest_ind(pop1_samp, pop2_samp, equal_var=False))"
   ]
  },
  {
   "cell_type": "markdown",
   "metadata": {},
   "source": [
    "From the t-test above, we can see that the p-value is now 2.73%, which means there are 2.73% chance that the mean in sample 1 and sample 2 is different given that the population 1 and population 2 have actually the same mean, if we use alpha = 5% for hypothesis test, we can still reject our null hypothesis. This shows the power of CLT, despite the our population distribution is not normal, if we took enough sample from it, the sampling distribution is still close to normal."
   ]
  },
  {
   "cell_type": "code",
   "execution_count": 49,
   "metadata": {},
   "outputs": [
    {
     "name": "stdout",
     "output_type": "stream",
     "text": [
      "Population 1 mean = 5.0131, standard deviation = 2.2661704238648954\n",
      "Population 2 mean = 5.9575, standard deviation = 2.4552176583757293\n"
     ]
    },
    {
     "data": {
      "image/png": "[encoded data removed]",
      "text/plain": [
       "<Figure size 720x360 with 1 Axes>"
      ]
     },
     "metadata": {
      "needs_background": "light"
     },
     "output_type": "display_data"
    }
   ],
   "source": [
    "# repeat the same experiment but this time increase the sample size\n",
    "np.random.seed(11)\n",
    "pop1 = np.random.poisson(lam=5, size=10000)\n",
    "pop2 = np.random.poisson(lam=6, size=10000)\n",
    "print('Population 1 mean = {}, standard deviation = {}'.format(pop1.mean(), pop1.std()))\n",
    "print('Population 2 mean = {}, standard deviation = {}'.format(pop2.mean(), pop2.std()))\n",
    "\n",
    "pop1_samp = np.random.choice(pop1, 500, replace=True)\n",
    "pop2_samp = np.random.choice(pop2, 500, replace=True)\n",
    "pop1_samp_df = pd.DataFrame(pop1_samp, columns=['pop1'])\n",
    "pop2_samp_df = pd.DataFrame(pop2_samp, columns=['pop2'])\n",
    "fig, ax = plt.subplots(1,1,figsize=(10,5))\n",
    "pop1_samp_df.plot(kind='hist', bins=7, alpha=0.5, ax=ax)\n",
    "pop2_samp_df.plot(kind='hist', bins=7, alpha=0.5, ax=ax)\n",
    "plt.show()"
   ]
  },
  {
   "cell_type": "code",
   "execution_count": 50,
   "metadata": {},
   "outputs": [
    {
     "name": "stdout",
     "output_type": "stream",
     "text": [
      "Ttest_indResult(statistic=-6.307420304377051, pvalue=4.256363023223217e-10)\n"
     ]
    }
   ],
   "source": [
    "print(ttest_ind(pop1_samp, pop2_samp, equal_var=False))"
   ]
  },
  {
   "cell_type": "markdown",
   "metadata": {},
   "source": [
    "Now the p-value decreased from 2.73% to a very small value, another proof of CLT."
   ]
  }
 ],
 "metadata": {
  "kernelspec": {
   "display_name": "Python 3",
   "language": "python",
   "name": "python3"
  },
  "language_info": {
   "codemirror_mode": {
    "name": "ipython",
    "version": 3
   },
   "file_extension": ".py",
   "mimetype": "text/x-python",
   "name": "python",
   "nbconvert_exporter": "python",
   "pygments_lexer": "ipython3",
   "version": "3.7.0"
  }
 },
 "nbformat": 4,
 "nbformat_minor": 2
}
