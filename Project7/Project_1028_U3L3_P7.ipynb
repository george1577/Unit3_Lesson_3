{
 "cells": [
  {
   "cell_type": "markdown",
   "metadata": {},
   "source": [
    "## DRILL - Exploring the Central Limit Theorem"
   ]
  },
  {
   "cell_type": "code",
   "execution_count": 83,
   "metadata": {},
   "outputs": [],
   "source": [
    "%matplotlib inline\n",
    "import pandas as pd\n",
    "import numpy as np\n",
    "import matplotlib.pyplot as plt\n",
    "from scipy.stats import ttest_ind \n",
    "plt.style.use('seaborn-deep')"
   ]
  },
  {
   "cell_type": "code",
   "execution_count": 80,
   "metadata": {},
   "outputs": [
    {
     "name": "stdout",
     "output_type": "stream",
     "text": [
      "Population 1 mean = 1.9879, standard deviation = 1.255210575959269\n",
      "Population 2 mean = 4.9953, standard deviation = 1.588168098785516\n"
     ]
    }
   ],
   "source": [
    "np.random.seed(11)\n",
    "pop1 = np.random.binomial(n=10, p=0.2, size=10000)\n",
    "pop2 = np.random.binomial(n=10, p=0.5, size=10000)\n",
    "print('Population 1 mean = {}, standard deviation = {}'.format(pop1.mean(), pop1.std()))\n",
    "print('Population 2 mean = {}, standard deviation = {}'.format(pop2.mean(), pop2.std()))"
   ]
  },
  {
   "cell_type": "markdown",
   "metadata": {},
   "source": [
    "## Normal sample(n=100)"
   ]
  },
  {
   "cell_type": "code",
   "execution_count": 86,
   "metadata": {},
   "outputs": [],
   "source": [
    "np.random.seed(11)\n",
    "pop1_samp = np.random.choice(pop1, 100, replace=True)\n",
    "pop2_samp = np.random.choice(pop2, 100, replace=True)"
   ]
  },
  {
   "cell_type": "code",
   "execution_count": 87,
   "metadata": {},
   "outputs": [
    {
     "name": "stdout",
     "output_type": "stream",
     "text": [
      "Sample of population 1, mean = 2.08, standard deviation = 1.3392535234226566\n",
      "Sample of population 2, mean = 4.92, standard deviation = 1.5144636014114041\n"
     ]
    }
   ],
   "source": [
    "print('Sample of population 1, mean = {}, standard deviation = {}'.format(pop1_samp.mean(), pop1_samp.std()))\n",
    "print('Sample of population 2, mean = {}, standard deviation = {}'.format(pop2_samp.mean(), pop2_samp.std()))"
   ]
  },
  {
   "cell_type": "markdown",
   "metadata": {},
   "source": [
    "With sample size of 100, the 95% confidence interval of true population mean is (1.8175, 2.3425) for population 1 and the 95% confidence interval of true population mean is (4.6232, 5.2168) for population 2"
   ]
  },
  {
   "cell_type": "markdown",
   "metadata": {},
   "source": [
    "## Large sample(n=1000)"
   ]
  },
  {
   "cell_type": "code",
   "execution_count": 90,
   "metadata": {},
   "outputs": [],
   "source": [
    "np.random.seed(11)\n",
    "pop1_samp_large = np.random.choice(pop1, 1000, replace=True)\n",
    "pop2_samp_large = np.random.choice(pop2, 1000, replace=True)"
   ]
  },
  {
   "cell_type": "code",
   "execution_count": 91,
   "metadata": {},
   "outputs": [
    {
     "name": "stdout",
     "output_type": "stream",
     "text": [
      "Sample of population 1, mean = 1.976, standard deviation = 1.264683359580571\n",
      "Sample of population 2, mean = 4.95, standard deviation = 1.6252692084697846\n"
     ]
    }
   ],
   "source": [
    "print('Sample of population 1, mean = {}, standard deviation = {}'.format(pop1_samp_large.mean(), pop1_samp_large.std()))\n",
    "print('Sample of population 2, mean = {}, standard deviation = {}'.format(pop2_samp_large.mean(), pop2_samp_large.std()))"
   ]
  },
  {
   "cell_type": "markdown",
   "metadata": {},
   "source": [
    "With sample size of 1000, the 95% confidence interval of true population mean is (1.8976, 2.0544) for population 1 and the 95% confidence interval of true population mean is (4.8493, 5.0507) for population 2, as we can see if the sample size increase, the 95% confidence interval range decrease, thus our sample mean could more accurately predict the true population mean"
   ]
  },
  {
   "cell_type": "markdown",
   "metadata": {},
   "source": [
    "## Small sample(n=20)"
   ]
  },
  {
   "cell_type": "code",
   "execution_count": 92,
   "metadata": {},
   "outputs": [],
   "source": [
    "np.random.seed(11)\n",
    "pop1_samp_small = np.random.choice(pop1, 20, replace=True)\n",
    "pop2_samp_small = np.random.choice(pop2, 20, replace=True)"
   ]
  },
  {
   "cell_type": "code",
   "execution_count": 93,
   "metadata": {},
   "outputs": [
    {
     "name": "stdout",
     "output_type": "stream",
     "text": [
      "Sample of population 1, mean = 2.05, standard deviation = 1.16081867662439\n",
      "Sample of population 2, mean = 5.55, standard deviation = 1.4309088021254186\n"
     ]
    }
   ],
   "source": [
    "print('Sample of population 1, mean = {}, standard deviation = {}'.format(pop1_samp_small.mean(), pop1_samp_small.std()))\n",
    "print('Sample of population 2, mean = {}, standard deviation = {}'.format(pop2_samp_small.mean(), pop2_samp_small.std()))"
   ]
  },
  {
   "cell_type": "markdown",
   "metadata": {},
   "source": [
    "With sample size of 20, the 95% confidence interval of true population mean is (1.5413, 2.5587) for population 1 and the 95% confidence interval of true population mean is (4.9229, 6.1771) for population 2, as the sample size decrease, we need a large range of confidence interval to be 95% sure that the true population mean will fall in it"
   ]
  },
  {
   "cell_type": "code",
   "execution_count": null,
   "metadata": {},
   "outputs": [],
   "source": []
  }
 ],
 "metadata": {
  "kernelspec": {
   "display_name": "Python 3",
   "language": "python",
   "name": "python3"
  },
  "language_info": {
   "codemirror_mode": {
    "name": "ipython",
    "version": 3
   },
   "file_extension": ".py",
   "mimetype": "text/x-python",
   "name": "python",
   "nbconvert_exporter": "python",
   "pygments_lexer": "ipython3",
   "version": "3.7.0"
  }
 },
 "nbformat": 4,
 "nbformat_minor": 2
}
